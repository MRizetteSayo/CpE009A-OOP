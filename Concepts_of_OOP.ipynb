{
  "nbformat": 4,
  "nbformat_minor": 0,
  "metadata": {
    "colab": {
      "provenance": [],
      "authorship_tag": "ABX9TyNSXqVr3i6k3mRUPOH+FfiD",
      "include_colab_link": true
    },
    "kernelspec": {
      "name": "python3",
      "display_name": "Python 3"
    },
    "language_info": {
      "name": "python"
    }
  },
  "cells": [
    {
      "cell_type": "markdown",
      "metadata": {
        "id": "view-in-github",
        "colab_type": "text"
      },
      "source": [
        "<a href=\"https://colab.research.google.com/github/MRizetteSayo/CpE009A-OOP/blob/main/Concepts_of_OOP.ipynb\" target=\"_parent\"><img src=\"https://colab.research.google.com/assets/colab-badge.svg\" alt=\"Open In Colab\"/></a>"
      ]
    },
    {
      "cell_type": "code",
      "execution_count": 2,
      "metadata": {
        "colab": {
          "base_uri": "https://localhost:8080/"
        },
        "id": "QWzP9Zd2gN5_",
        "outputId": "9e6848a7-3e5d-4ebc-c4e2-b565500bb3a4"
      },
      "outputs": [
        {
          "output_type": "stream",
          "name": "stdout",
          "text": [
            "<__main__.Car object at 0x7a43f5448ac0>\n"
          ]
        }
      ],
      "source": [
        "class Car:\n",
        "  pass\n",
        "\n",
        "obj1 = Car()\n",
        "print(obj1)"
      ]
    },
    {
      "cell_type": "code",
      "source": [
        "class Car:  #class constructor\n",
        "  def __init__(self,name,color,mileage):\n",
        "    self.name = name  #car attributes\n",
        "    self.color = color\n",
        "    self.mileage = mileage\n",
        "obj1 = Car (\"BMW\",\"Red\",1000) #instance of a class\n",
        "obj2 = Car(\"Toyota\",\"Blue\", 1200) #object name\n",
        "print(\"The car's name is\",obj1.name)\n",
        "print(\"The car's color is\",obj1.color)\n",
        "print(\"The car's mileage is\",obj1.mileage)\n",
        "\n",
        "print(obj2.mileage)\n",
        "\n",
        ""
      ],
      "metadata": {
        "colab": {
          "base_uri": "https://localhost:8080/"
        },
        "id": "UNFhARf_ia12",
        "outputId": "9ac05dd0-7b3b-452a-d5c1-17aabdfda77d"
      },
      "execution_count": 12,
      "outputs": [
        {
          "output_type": "stream",
          "name": "stdout",
          "text": [
            "The car's name is BMW\n",
            "The car's color is Red\n",
            "The car's mileage is 1000\n",
            "1200\n"
          ]
        }
      ]
    },
    {
      "cell_type": "markdown",
      "source": [
        "Application 1 - Write a Python program that prints your student information with the following attributes: Name, Age, Course, and Section. Use class name Student(), object name as student"
      ],
      "metadata": {
        "id": "ZFGb3_3el13W"
      }
    }
  ]
}